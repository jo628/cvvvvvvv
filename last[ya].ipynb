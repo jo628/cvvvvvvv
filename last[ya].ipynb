{
 "cells": [
  {
   "cell_type": "code",
   "execution_count": 68,
   "id": "78503edc",
   "metadata": {},
   "outputs": [
    {
     "name": "stdout",
     "output_type": "stream",
     "text": [
      "glass: 250\n",
      "paper: 250\n",
      "plastic: 250\n"
     ]
    }
   ],
   "source": [
    "import os\n",
    "from collections import Counter\n",
    "import cv2\n",
    "import matplotlib.pyplot as plt\n",
    "\n",
    "dataset_dir = \"dataset1\"  # Replace with the actual path\n",
    "train_dir = os.path.join(dataset_dir)\n",
    "\n",
    "classes = os.listdir(train_dir)\n",
    "class_counts = {}\n",
    "\n",
    "for cls in classes:\n",
    "    cls_path = os.path.join(train_dir, cls)\n",
    "    images = os.listdir(cls_path)\n",
    "    class_counts[cls] = len(images)\n",
    "\n",
    "# Show count per class\n",
    "for cls, count in sorted(class_counts.items(), key=lambda x: x[1], reverse=True):\n",
    "    print(f\"{cls}: {count}\")\n"
   ]
  },
  {
   "cell_type": "code",
   "execution_count": 69,
   "id": "526d2046",
   "metadata": {},
   "outputs": [],
   "source": [
    "def preprocess_image(img, size=(64, 64)):\n",
    "    img_resized = cv2.resize(img, size)\n",
    "    \n",
    "    return img_resized"
   ]
  },
  {
   "cell_type": "code",
   "execution_count": 70,
   "id": "e7eb5eac",
   "metadata": {},
   "outputs": [],
   "source": [
    "import numpy as np\n",
    "from skimage.feature import hog\n",
    "from skimage.color import rgb2gray\n",
    "\n",
    "def extract_features(img):\n",
    "    # Ensure image is grayscale for HOG\n",
    "    gray = rgb2gray(img)\n",
    "\n",
    "    # HOG features\n",
    "    hog_features, _ = hog(gray, pixels_per_cell=(8, 8), cells_per_block=(2, 2),\n",
    "                          orientations=9, block_norm='L2-Hys', visualize=True)\n",
    "\n",
    "    # Color histogram (for each channel separately, 8 bins per channel as example)\n",
    "    hist_r, _ = np.histogram(img[:, :, 0], bins=8, range=(0, 1), density=True)\n",
    "    hist_g, _ = np.histogram(img[:, :, 1], bins=8, range=(0, 1), density=True)\n",
    "    hist_b, _ = np.histogram(img[:, :, 2], bins=8, range=(0, 1), density=True)\n",
    "    \n",
    "    color_hist = np.concatenate([hist_r, hist_g, hist_b])\n",
    "\n",
    "    # Combine HOG and color histogram\n",
    "    combined_features = np.concatenate([hog_features, color_hist])\n",
    "\n",
    "    return combined_features"
   ]
  },
  {
   "cell_type": "code",
   "execution_count": 71,
   "id": "db9b7fd8",
   "metadata": {},
   "outputs": [
    {
     "name": "stderr",
     "output_type": "stream",
     "text": [
      "  0%|          | 0/250 [00:00<?, ?it/s]c:\\Users\\ysfah\\anaconda3\\Lib\\site-packages\\numpy\\lib\\histograms.py:885: RuntimeWarning: invalid value encountered in divide\n",
      "  return n/db/n.sum(), bin_edges\n",
      "100%|██████████| 250/250 [00:03<00:00, 82.85it/s]\n",
      "100%|██████████| 250/250 [00:02<00:00, 88.07it/s]\n",
      "100%|██████████| 250/250 [00:02<00:00, 87.13it/s]\n"
     ]
    }
   ],
   "source": [
    "import numpy as np\n",
    "from tqdm import tqdm\n",
    "\n",
    "X, y = [], []\n",
    "\n",
    "for cls in classes:\n",
    "    cls_path = os.path.join(train_dir, cls)\n",
    "    for file in tqdm(os.listdir(cls_path)):  # Limit for performance\n",
    "        img_path = os.path.join(cls_path, file)\n",
    "        img = cv2.imread(img_path)\n",
    "        img_pre = preprocess_image(img)\n",
    "        feat = extract_features(img_pre)\n",
    "        X.append(feat)\n",
    "        y.append(cls)\n",
    "\n",
    "X = np.array(X)\n",
    "y = np.array(y)\n"
   ]
  },
  {
   "cell_type": "code",
   "execution_count": 72,
   "id": "081b24fb",
   "metadata": {},
   "outputs": [
    {
     "name": "stdout",
     "output_type": "stream",
     "text": [
      "[[43  6  1]\n",
      " [ 1 47  2]\n",
      " [ 9  4 37]]\n",
      "              precision    recall  f1-score   support\n",
      "\n",
      "       glass       0.81      0.86      0.83        50\n",
      "       paper       0.82      0.94      0.88        50\n",
      "     plastic       0.93      0.74      0.82        50\n",
      "\n",
      "    accuracy                           0.85       150\n",
      "   macro avg       0.85      0.85      0.85       150\n",
      "weighted avg       0.85      0.85      0.85       150\n",
      "\n"
     ]
    }
   ],
   "source": [
    "from sklearn.model_selection import train_test_split\n",
    "from sklearn.ensemble import RandomForestClassifier\n",
    "from sklearn.metrics import classification_report, confusion_matrix\n",
    "\n",
    "# Train/test split\n",
    "\n",
    "X_train, X_test, y_train, y_test = train_test_split(X, y, stratify=y, test_size=0.2)\n",
    "\n",
    "# Initialize and train Random Forest model\n",
    "model = RandomForestClassifier(n_estimators=100, random_state=42)\n",
    "model.fit(X_train, y_train)\n",
    "\n",
    "# Predict and evaluate\n",
    "y_pred = model.predict(X_test)\n",
    "print(confusion_matrix(y_test, y_pred))\n",
    "print(classification_report(y_test, y_pred))"
   ]
  },
  {
   "cell_type": "code",
   "execution_count": 73,
   "id": "5e7266d0",
   "metadata": {},
   "outputs": [],
   "source": [
    "import cv2\n",
    "import numpy as np\n",
    "import matplotlib.pyplot as plt\n",
    "\n",
    "def detect_objects_and_classify(original):\n",
    "    # Load image\n",
    "\n",
    "\n",
    "    # Contrast enhancement (CLAHE)\n",
    "    lab = cv2.cvtColor(original, cv2.COLOR_BGR2LAB)\n",
    "    l, a, b = cv2.split(lab)\n",
    "    clahe = cv2.createCLAHE(clipLimit=2.0, tileGridSize=(8, 8))\n",
    "    cl = clahe.apply(l)\n",
    "    enhanced = cv2.merge((cl, a, b))\n",
    "    enhanced_bgr = cv2.cvtColor(enhanced, cv2.COLOR_LAB2BGR)\n",
    "\n",
    "    # Blur to reduce noise\n",
    "    blurred = cv2.GaussianBlur(enhanced_bgr, (5, 5), 0)\n",
    "\n",
    "    # Multi-channel edge detection\n",
    "    b, g, r = cv2.split(blurred)\n",
    "    edges_b = cv2.Canny(b, 50, 150)\n",
    "    edges_g = cv2.Canny(g, 50, 150)\n",
    "    edges_r = cv2.Canny(r, 50, 150)\n",
    "    combined_edges = cv2.bitwise_or(edges_b, edges_g)\n",
    "    combined_edges = cv2.bitwise_or(combined_edges, edges_r)\n",
    "\n",
    "    # Optional: color segmentation for red objects\n",
    "    hsv = cv2.cvtColor(original, cv2.COLOR_BGR2HSV)\n",
    "    lower_red1 = np.array([0, 70, 50])\n",
    "    upper_red1 = np.array([10, 255, 255])\n",
    "    lower_red2 = np.array([170, 70, 50])\n",
    "    upper_red2 = np.array([180, 255, 255])\n",
    "    mask1 = cv2.inRange(hsv, lower_red1, upper_red1)\n",
    "    mask2 = cv2.inRange(hsv, lower_red2, upper_red2)\n",
    "    red_mask = cv2.bitwise_or(mask1, mask2)\n",
    "\n",
    "    # Combine edge and color masks\n",
    "    final_mask = cv2.bitwise_or(combined_edges, red_mask)\n",
    "\n",
    "    # Morphological operations to enhance edges\n",
    "    kernel = np.ones((5, 5), np.uint8)\n",
    "    final_mask = cv2.dilate(final_mask, kernel, iterations=2)\n",
    "    final_mask = cv2.morphologyEx(final_mask, cv2.MORPH_CLOSE, kernel, iterations=2)\n",
    "\n",
    "    # Find contours\n",
    "    contours, _ = cv2.findContours(final_mask, cv2.RETR_EXTERNAL, cv2.CHAIN_APPROX_SIMPLE)\n",
    "\n",
    "    for c in contours:\n",
    "        x, y, w, h = cv2.boundingRect(c)\n",
    "        area = cv2.contourArea(c)\n",
    "        aspect_ratio = w / float(h)\n",
    "        if area > 100 and w > 30 and h > 30 and 0.2 < aspect_ratio < 5.0:\n",
    "            roi = original[y:y+h, x:x+w]\n",
    "\n",
    "            # Assumes these exist:\n",
    "            roi_pre = preprocess_image(roi)  # Preprocessing function\n",
    "            # seg = segment_image(roi_pre)\n",
    "            feat = extract_features(roi_pre).reshape(1, -1)  # Feature extractor\n",
    "\n",
    "            label = model.predict(feat)[0]  # ML model\n",
    "\n",
    "            cv2.rectangle(original, (x, y), (x+w, y+h), (0, 255, 0), 2)\n",
    "            cv2.putText(original, label, (x, y-10), cv2.FONT_HERSHEY_SIMPLEX, 0.6, (36, 255, 12), 2)\n",
    "\n",
    "\n",
    "    return original\n"
   ]
  },
  {
   "cell_type": "code",
   "execution_count": null,
   "id": "1a247cbe",
   "metadata": {},
   "outputs": [
    {
     "name": "stdout",
     "output_type": "stream",
     "text": [
      "* Running on local URL:  http://127.0.0.1:7870\n",
      "* To create a public link, set `share=True` in `launch()`.\n"
     ]
    },
    {
     "data": {
      "text/html": [
       "<div><iframe src=\"http://127.0.0.1:7870/\" width=\"100%\" height=\"500\" allow=\"autoplay; camera; microphone; clipboard-read; clipboard-write;\" frameborder=\"0\" allowfullscreen></iframe></div>"
      ],
      "text/plain": [
       "<IPython.core.display.HTML object>"
      ]
     },
     "metadata": {},
     "output_type": "display_data"
    },
    {
     "data": {
      "text/plain": []
     },
     "execution_count": 74,
     "metadata": {},
     "output_type": "execute_result"
    },
    {
     "name": "stderr",
     "output_type": "stream",
     "text": [
      "c:\\Users\\ysfah\\anaconda3\\Lib\\site-packages\\numpy\\lib\\histograms.py:885: RuntimeWarning: invalid value encountered in divide\n",
      "  return n/db/n.sum(), bin_edges\n",
      "Traceback (most recent call last):\n",
      "  File \"c:\\Users\\ysfah\\anaconda3\\Lib\\site-packages\\gradio\\queueing.py\", line 625, in process_events\n",
      "    response = await route_utils.call_process_api(\n",
      "               ^^^^^^^^^^^^^^^^^^^^^^^^^^^^^^^^^^^\n",
      "  File \"c:\\Users\\ysfah\\anaconda3\\Lib\\site-packages\\gradio\\route_utils.py\", line 322, in call_process_api\n",
      "    output = await app.get_blocks().process_api(\n",
      "             ^^^^^^^^^^^^^^^^^^^^^^^^^^^^^^^^^^^\n",
      "  File \"c:\\Users\\ysfah\\anaconda3\\Lib\\site-packages\\gradio\\blocks.py\", line 2146, in process_api\n",
      "    result = await self.call_function(\n",
      "             ^^^^^^^^^^^^^^^^^^^^^^^^^\n",
      "  File \"c:\\Users\\ysfah\\anaconda3\\Lib\\site-packages\\gradio\\blocks.py\", line 1664, in call_function\n",
      "    prediction = await anyio.to_thread.run_sync(  # type: ignore\n",
      "                 ^^^^^^^^^^^^^^^^^^^^^^^^^^^^^^^^^^^^^^^^^^^^^^^\n",
      "  File \"c:\\Users\\ysfah\\anaconda3\\Lib\\site-packages\\anyio\\to_thread.py\", line 56, in run_sync\n",
      "    return await get_async_backend().run_sync_in_worker_thread(\n",
      "           ^^^^^^^^^^^^^^^^^^^^^^^^^^^^^^^^^^^^^^^^^^^^^^^^^^^^\n",
      "  File \"c:\\Users\\ysfah\\anaconda3\\Lib\\site-packages\\anyio\\_backends\\_asyncio.py\", line 2134, in run_sync_in_worker_thread\n",
      "    return await future\n",
      "           ^^^^^^^^^^^^\n",
      "  File \"c:\\Users\\ysfah\\anaconda3\\Lib\\site-packages\\anyio\\_backends\\_asyncio.py\", line 851, in run\n",
      "    result = context.run(func, *args)\n",
      "             ^^^^^^^^^^^^^^^^^^^^^^^^\n",
      "  File \"c:\\Users\\ysfah\\anaconda3\\Lib\\site-packages\\gradio\\utils.py\", line 884, in wrapper\n",
      "    response = f(*args, **kwargs)\n",
      "               ^^^^^^^^^^^^^^^^^^\n",
      "  File \"C:\\Users\\ysfah\\AppData\\Local\\Temp\\ipykernel_15000\\823019456.py\", line 10, in detect_objects_and_classify\n",
      "    lab = cv2.cvtColor(original, cv2.COLOR_BGR2LAB)\n",
      "          ^^^^^^^^^^^^^^^^^^^^^^^^^^^^^^^^^^^^^^^^^\n",
      "cv2.error: OpenCV(4.11.0) D:\\a\\opencv-python\\opencv-python\\opencv\\modules\\imgproc\\src\\color.cpp:199: error: (-215:Assertion failed) !_src.empty() in function 'cv::cvtColor'\n",
      "\n",
      "c:\\Users\\ysfah\\anaconda3\\Lib\\site-packages\\numpy\\lib\\histograms.py:885: RuntimeWarning: invalid value encountered in divide\n",
      "  return n/db/n.sum(), bin_edges\n",
      "c:\\Users\\ysfah\\anaconda3\\Lib\\site-packages\\numpy\\lib\\histograms.py:885: RuntimeWarning: invalid value encountered in divide\n",
      "  return n/db/n.sum(), bin_edges\n",
      "Traceback (most recent call last):\n",
      "  File \"c:\\Users\\ysfah\\anaconda3\\Lib\\site-packages\\gradio\\queueing.py\", line 625, in process_events\n",
      "    response = await route_utils.call_process_api(\n",
      "               ^^^^^^^^^^^^^^^^^^^^^^^^^^^^^^^^^^^\n",
      "  File \"c:\\Users\\ysfah\\anaconda3\\Lib\\site-packages\\gradio\\route_utils.py\", line 322, in call_process_api\n",
      "    output = await app.get_blocks().process_api(\n",
      "             ^^^^^^^^^^^^^^^^^^^^^^^^^^^^^^^^^^^\n",
      "  File \"c:\\Users\\ysfah\\anaconda3\\Lib\\site-packages\\gradio\\blocks.py\", line 2146, in process_api\n",
      "    result = await self.call_function(\n",
      "             ^^^^^^^^^^^^^^^^^^^^^^^^^\n",
      "  File \"c:\\Users\\ysfah\\anaconda3\\Lib\\site-packages\\gradio\\blocks.py\", line 1664, in call_function\n",
      "    prediction = await anyio.to_thread.run_sync(  # type: ignore\n",
      "                 ^^^^^^^^^^^^^^^^^^^^^^^^^^^^^^^^^^^^^^^^^^^^^^^\n",
      "  File \"c:\\Users\\ysfah\\anaconda3\\Lib\\site-packages\\anyio\\to_thread.py\", line 56, in run_sync\n",
      "    return await get_async_backend().run_sync_in_worker_thread(\n",
      "           ^^^^^^^^^^^^^^^^^^^^^^^^^^^^^^^^^^^^^^^^^^^^^^^^^^^^\n",
      "  File \"c:\\Users\\ysfah\\anaconda3\\Lib\\site-packages\\anyio\\_backends\\_asyncio.py\", line 2134, in run_sync_in_worker_thread\n",
      "    return await future\n",
      "           ^^^^^^^^^^^^\n",
      "  File \"c:\\Users\\ysfah\\anaconda3\\Lib\\site-packages\\anyio\\_backends\\_asyncio.py\", line 851, in run\n",
      "    result = context.run(func, *args)\n",
      "             ^^^^^^^^^^^^^^^^^^^^^^^^\n",
      "  File \"c:\\Users\\ysfah\\anaconda3\\Lib\\site-packages\\gradio\\utils.py\", line 884, in wrapper\n",
      "    response = f(*args, **kwargs)\n",
      "               ^^^^^^^^^^^^^^^^^^\n",
      "  File \"C:\\Users\\ysfah\\AppData\\Local\\Temp\\ipykernel_15000\\823019456.py\", line 10, in detect_objects_and_classify\n",
      "    lab = cv2.cvtColor(original, cv2.COLOR_BGR2LAB)\n",
      "          ^^^^^^^^^^^^^^^^^^^^^^^^^^^^^^^^^^^^^^^^^\n",
      "cv2.error: OpenCV(4.11.0) D:\\a\\opencv-python\\opencv-python\\opencv\\modules\\imgproc\\src\\color.cpp:199: error: (-215:Assertion failed) !_src.empty() in function 'cv::cvtColor'\n",
      "\n",
      "c:\\Users\\ysfah\\anaconda3\\Lib\\site-packages\\numpy\\lib\\histograms.py:885: RuntimeWarning: invalid value encountered in divide\n",
      "  return n/db/n.sum(), bin_edges\n",
      "c:\\Users\\ysfah\\anaconda3\\Lib\\site-packages\\numpy\\lib\\histograms.py:885: RuntimeWarning: invalid value encountered in divide\n",
      "  return n/db/n.sum(), bin_edges\n",
      "c:\\Users\\ysfah\\anaconda3\\Lib\\site-packages\\numpy\\lib\\histograms.py:885: RuntimeWarning: invalid value encountered in divide\n",
      "  return n/db/n.sum(), bin_edges\n",
      "c:\\Users\\ysfah\\anaconda3\\Lib\\site-packages\\numpy\\lib\\histograms.py:885: RuntimeWarning: invalid value encountered in divide\n",
      "  return n/db/n.sum(), bin_edges\n",
      "c:\\Users\\ysfah\\anaconda3\\Lib\\site-packages\\numpy\\lib\\histograms.py:885: RuntimeWarning: invalid value encountered in divide\n",
      "  return n/db/n.sum(), bin_edges\n",
      "c:\\Users\\ysfah\\anaconda3\\Lib\\site-packages\\numpy\\lib\\histograms.py:885: RuntimeWarning: invalid value encountered in divide\n",
      "  return n/db/n.sum(), bin_edges\n"
     ]
    }
   ],
   "source": [
    "import gradio as gr\n",
    "\n",
    "iface = gr.Interface(\n",
    "    fn=detect_objects_and_classify,\n",
    "    inputs=gr.Image(type=\"numpy\"), \n",
    "    outputs=gr.Image(type=\"numpy\"),  \n",
    "    live=True,\n",
    "    title=\"Object Detection and Classification\",\n",
    "    description=\"Upload an image for object detection and classification.\"\n",
    ")\n",
    "\n",
    "# Launch the interface\n",
    "iface.launch()"
   ]
  }
 ],
 "metadata": {
  "kernelspec": {
   "display_name": "base",
   "language": "python",
   "name": "python3"
  },
  "language_info": {
   "codemirror_mode": {
    "name": "ipython",
    "version": 3
   },
   "file_extension": ".py",
   "mimetype": "text/x-python",
   "name": "python",
   "nbconvert_exporter": "python",
   "pygments_lexer": "ipython3",
   "version": "3.12.7"
  }
 },
 "nbformat": 4,
 "nbformat_minor": 5
}
